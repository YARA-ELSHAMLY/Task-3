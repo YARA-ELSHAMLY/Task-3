{
 "cells": [
  {
   "cell_type": "code",
   "execution_count": 19,
   "id": "94abf744",
   "metadata": {},
   "outputs": [],
   "source": [
    "import cv2\n",
    "import numpy as np\n",
    "\n",
    "img=cv2.imread(\"C:/Users/moree/Downloads/folders/folders/folder5/5.jpg\")\n",
    "\n",
    "def avg_blur():\n",
    "    blured=np.hstack([img,\n",
    "                     cv2.blur(img,(3,3)),\n",
    "                    cv2.blur(img,(5,5)),\n",
    "                     cv2.blur(img,(7,7)),\n",
    "                     cv2.blur(img,(13,13))])\n",
    "    cv2.imshow(\"frame\",blured)\n",
    "    cv2.waitKey(0)\n",
    "    \n",
    "avg_blur()"
   ]
  },
  {
   "cell_type": "code",
   "execution_count": 20,
   "id": "fde544ed",
   "metadata": {},
   "outputs": [],
   "source": [
    "import cv2\n",
    "import numpy as np\n",
    "\n",
    "def bilateral():\n",
    "    img = cv2.imread(\"C:/Users/moree/Downloads/bug_noisy.jpg\")  \n",
    "    filtered = np.hstack([img,\n",
    "                          cv2.bilateralFilter(img, 5, 21, 21),\n",
    "                          cv2.bilateralFilter(img, 7, 31, 31),\n",
    "                          cv2.bilateralFilter(img, 9, 41, 41),\n",
    "                          cv2.bilateralFilter(img, 12, 51, 51)])\n",
    "    cv2.imshow(\"frame2\", filtered)\n",
    "    cv2.waitKey(0)\n",
    "\n",
    "bilateral()"
   ]
  },
  {
   "cell_type": "code",
   "execution_count": 23,
   "id": "fdc9b0d5",
   "metadata": {},
   "outputs": [],
   "source": [
    "import cv2\n",
    "import numpy as np\n",
    "\n",
    "img = cv2.imread(\"C:/Users/moree/Downloads/folders/folders/folder1/1.jpg\")  \n",
    "\n",
    "def median_blur():\n",
    "    m_blured=np.hstack([img,\n",
    "                       cv2.medianBlur(img,3),\n",
    "                       cv2.medianBlur(img,5),\n",
    "                       cv2.medianBlur(img,7),\n",
    "                       cv2.medianBlur(img,13)])\n",
    "    cv2.imshow(\"frame3\",m_blured)\n",
    "    cv2.waitKey(0)\n",
    "\n",
    "median_blur()"
   ]
  },
  {
   "cell_type": "code",
   "execution_count": 22,
   "id": "a87bf83c",
   "metadata": {},
   "outputs": [],
   "source": [
    "import cv2\n",
    "import numpy as np\n",
    "\n",
    "img = cv2.imread(\"C:/Users/moree/Downloads/folders/folders/folder3/9.jpg\")  \n",
    "\n",
    "def gauss_blur():\n",
    "    g_blured=np.hstack([img,\n",
    "                       cv2.GaussianBlur(img,(3,3),0),\n",
    "                       cv2.GaussianBlur(img,(5,5),0),\n",
    "                       cv2.GaussianBlur(img,(7,7),0),\n",
    "                       cv2.GaussianBlur(img,(13,13),0)])\n",
    "    cv2.imshow(\"frame4\",g_blured)\n",
    "    cv2.waitKey(0)\n",
    "\n",
    "gauss_blur()"
   ]
  },
  {
   "cell_type": "code",
   "execution_count": null,
   "id": "7bfea676",
   "metadata": {},
   "outputs": [],
   "source": []
  }
 ],
 "metadata": {
  "kernelspec": {
   "display_name": "Python 3 (ipykernel)",
   "language": "python",
   "name": "python3"
  },
  "language_info": {
   "codemirror_mode": {
    "name": "ipython",
    "version": 3
   },
   "file_extension": ".py",
   "mimetype": "text/x-python",
   "name": "python",
   "nbconvert_exporter": "python",
   "pygments_lexer": "ipython3",
   "version": "3.9.13"
  }
 },
 "nbformat": 4,
 "nbformat_minor": 5
}
